{
 "cells": [
  {
   "cell_type": "markdown",
   "metadata": {},
   "source": [
    "# non-Sterile interaction\n",
    "#### This version is tested with Anaconda Python 3.7.3,  Numpy 1.16.2, Numba 0.43.1 and Matplotlib 3.0.3\n",
    "#### There might be problem with lower version of numba"
   ]
  },
  {
   "cell_type": "markdown",
   "metadata": {},
   "source": [
    "### loading the library"
   ]
  },
  {
   "cell_type": "code",
   "execution_count": 1,
   "metadata": {},
   "outputs": [],
   "source": [
    "import numpy as np\n",
    "import matplotlib.pyplot as plt\n",
    "import numba\n",
    "from matplotlib import rc\n",
    "rc('font',**{'family':'sans-serif','sans-serif':['Helvetica']})\n",
    "## for Palatino and other serif fonts use:\n",
    "#rc('font',**{'family':'serif','serif':['Palatino']})\n",
    "rc('text', usetex=True)"
   ]
  },
  {
   "cell_type": "markdown",
   "metadata": {},
   "source": [
    "### Reading the data files"
   ]
  },
  {
   "cell_type": "code",
   "execution_count": 2,
   "metadata": {},
   "outputs": [],
   "source": [
    "#=================================== Energy and cross section data:\n",
    "\n",
    "# Unit is GeV and Km\n",
    "\n",
    "x = np.loadtxt(\"./ExperimentalData/XCC.dat\").transpose()\n",
    "\n",
    "# In this file:\n",
    "    # 10**x[0] is energy\n",
    "    # x[1] is charged current quasi-elastic neutrino interaction \n",
    "    # x[4] is charged current quasi-elastic anti-neutrino interaction \n",
    "\n",
    "energy_cross_section = 10**x[0]\n",
    "quasi_elastic_nu_cross = x[1]\n",
    "quasi_elastic_anu_cross = x[4]\n",
    "\n",
    "cross_section = [quasi_elastic_nu_cross, energy_cross_section]\n",
    "anu_cross_section = [quasi_elastic_anu_cross, energy_cross_section]\n",
    "\n",
    "\n",
    "#================================ Reading flux and their associated energy:\n",
    "\n",
    "[eflux_nu, flux_nu] = np.loadtxt(\"./ExperimentalData/flux_neutrio_muon_MiniBooNE.csv\",delimiter=\",\").transpose()\n",
    "[eflux_anu, flux_anu] = np.loadtxt(\"./ExperimentalData/flux_antineutrio_muon_MiniBooNE.csv\",delimiter=\",\").transpose()\n",
    "\n",
    "nu_flux = [flux_nu, eflux_nu]\n",
    "anu_flux = [flux_anu, eflux_anu] \n",
    "\n",
    "\n",
    "#================================ Experimental data of MiniBoone:\n",
    "\n",
    "nexp_nu_mini = np.array([138.214,74.732175,72.1753,33.96915,4.0178625,30.681875,1.753245,7.01298,16.94806])\n",
    "error_nu_mini = np.array([42.3699,24.5454,26.5909,17.3133,21.733,18.2629625,20.381475,16.43667,19.285723])\n",
    "\n",
    "nexp_anu_mini = np.array([31.8506,16.4367,6.42857,11.3961,14.245125,5.1136375,-0.438312,-6.136365,-2.33766])\n",
    "error_anu_mini = np.array([14.02595,9.20454,8.766225,7.12258125,8.9488625,7.67046875,7.232145,5.9172075,6.42857])\n",
    "\n",
    "bins = np.array([0.200,0.300,0.375,0.475,0.550,0.675,0.800,0.950,1.100,1.300])\n",
    "\n",
    "\n",
    "\n"
   ]
  },
  {
   "cell_type": "markdown",
   "metadata": {},
   "source": [
    "# functions"
   ]
  },
  {
   "cell_type": "markdown",
   "metadata": {},
   "source": [
    "## paper arXiv:0806.1449 page 49 and 50"
   ]
  },
  {
   "cell_type": "code",
   "execution_count": 3,
   "metadata": {},
   "outputs": [],
   "source": [
    "def neutrino_flux(energy,flux, eflux):\n",
    "    \"\"\"\n",
    "    This function calculate the flux for a given energy\n",
    "    \n",
    "    flux ...\n",
    "    eflux ...\n",
    "    \"\"\"\n",
    "    for i in np.arange(len(flux)-1):\n",
    "        if (energy >= eflux[i] and energy < eflux[i+1]):\n",
    "            rho = flux[i]\n",
    "            break\n",
    "            \n",
    "    if(energy < eflux[0]):\n",
    "        rho = 0\n",
    "    \n",
    "    if ( energy > eflux[-1]):\n",
    "        rho = 0\n",
    "\n",
    "    return rho*1.0"
   ]
  },
  {
   "cell_type": "markdown",
   "metadata": {},
   "source": [
    "## from globes"
   ]
  },
  {
   "cell_type": "code",
   "execution_count": 4,
   "metadata": {},
   "outputs": [],
   "source": [
    "def cross_section_ccqe_nu(energy ,cross_section, ecross_section):\n",
    "    \"\"\"\n",
    "    ....\n",
    "    \"\"\"\n",
    "    for i in np.arange(len(cross_section)-1):\n",
    "        if (energy >= ecross_section[i] and energy < ecross_section[i+1]):\n",
    "            cross = cross_section[i] + ((cross_section[i+1]-cross_section[i])/(ecross_section[i+1]-ecross_section[i])) \\\n",
    "            * (energy - ecross_section[i])\n",
    "            break\n",
    "            \n",
    "    if(energy < ecross_section[0]):\n",
    "        cross = 0\n",
    "    \n",
    "    if ( energy > ecross_section[-1]):\n",
    "        cross = cross_section[-1]\n",
    "    \n",
    "\n",
    "    return cross*1.0\n",
    "    "
   ]
  },
  {
   "cell_type": "code",
   "execution_count": 5,
   "metadata": {},
   "outputs": [],
   "source": [
    "def delta_dirac(a,b):\n",
    "    if (a == b):\n",
    "        return 1\n",
    "    elif (a != b):\n",
    "        return 0\n",
    "    else:\n",
    "        return np.nan"
   ]
  },
  {
   "cell_type": "markdown",
   "metadata": {},
   "source": [
    "# fundamentals of neutrino physics in astro physics Giunti\n",
    "\n",
    "page 252"
   ]
  },
  {
   "cell_type": "code",
   "execution_count": 6,
   "metadata": {},
   "outputs": [],
   "source": [
    "def Oscillation_Probability_4nu(alpha, beta, dm2, t14,t24, t34, baseline, energy):\n",
    "    \"\"\"\n",
    "        Enter t14 t24 t34 in degrees\n",
    "        \n",
    "        for alpha and beta variable enter:\n",
    "        0 for electorn neutrio\n",
    "        1 for muon neutrio\n",
    "        2 for tau neutrio\n",
    "        3 for sterile neutrio\n",
    "\n",
    "        baseline in meter and energy in MeV or baseline in kilometer and energy in GeV\n",
    "    \"\"\"  \n",
    "    \n",
    "    t14 = np.deg2rad(t14)\n",
    "    t24 = np.deg2rad(t24)\n",
    "    t34 = np.deg2rad(t34)\n",
    "        \n",
    "    c14 = np.cos(t14)\n",
    "    s14 = np.sin(t14)\n",
    "\n",
    "    c24 = np.cos(t24)\n",
    "    s24 = np.sin(t24)\n",
    "\n",
    "    c34 = np.cos(t34)\n",
    "    s34 = np.sin(t34) \n",
    "    \n",
    "    UT = [s14, c24*s24, s34 * c24**2, c34 *  c24**2]\n",
    "    \n",
    "    uta = UT[alpha]\n",
    "    \n",
    "    utb = UT[beta]\n",
    "    \n",
    "    P2 = uta *  utb * (delta_dirac(alpha, beta) - uta *  utb)\n",
    "    \n",
    "    return delta_dirac(alpha, beta) - 4 * (np.sin((1.27*dm2 * baseline)/energy)**2)* P2    "
   ]
  },
  {
   "cell_type": "markdown",
   "metadata": {},
   "source": [
    "# $N_i(\\theta) = n_f \\int dE_{\\nu} P_{ee}(E_{\\nu};\\theta)\\sigma(E_{\\nu})R_i(E_{\\nu}) $\n",
    "\n",
    "from Toma Schwetz persentation, Neutrino data analysis  (Stockholm U)\n",
    "here we set R = 1\n",
    "\n",
    "...\n",
    "\n",
    "with assumption of Gaussianinty for "
   ]
  },
  {
   "cell_type": "code",
   "execution_count": 1,
   "metadata": {},
   "outputs": [],
   "source": [
    "def N_th_per_bin(energies, theta14 , theta24, dm2,L, cross_section,flux):\n",
    "    \"\"\"\n",
    "    Energies is a list with three memebers:\n",
    "        Energies = [E_min, E_max, num]\n",
    "        \n",
    "    ROTATION ANGLES\n",
    "\n",
    "        Theta24 is in degree\n",
    "        Theta14 is setted to 90.0\n",
    "        Theta34 is setted to 0.0\n",
    "\n",
    "    \n",
    "    flux is a list with 2 members:\n",
    "        flux = [flux_nu, eflux_nu]\n",
    "        OR\n",
    "        flux = [flux_anu, eflux_anu]     \n",
    "        \n",
    "    cross_section is a list with two members\n",
    "        cross_section = [quasi_elastic_nu_cross, energy_cross_section]\n",
    "        \n",
    "    sin2th2, dm2,L,E\n",
    "    \"\"\"\n",
    "    dE = (energies[1]- energies[0])/energies[2]\n",
    "    energy_array = np.linspace(energies[0], energies[1], energies[2])\n",
    "    flux_array = []\n",
    "    cross_section_array = []\n",
    "    p = []\n",
    "    for e in energy_array:\n",
    "        flux_array.append(neutrino_flux(e,flux[0], flux[1]))\n",
    "        cross_section_array.append(cross_section_ccqe_nu(e ,cross_section[0], cross_section[1]))\n",
    "        p.append(Oscillation_Probability_4nu(1, 0, dm2 , theta14 , theta24 , 0.0 , L, e))\n",
    "    \n",
    "    p = np.array(p)\n",
    "    cross_section_array = np.array(cross_section_array) \n",
    "    flux_array = np.array(flux_array)\n",
    "    \n",
    "    return (p*cross_section_array*flux_array*dE).sum()\n",
    "\n"
   ]
  },
  {
   "cell_type": "markdown",
   "metadata": {},
   "source": [
    "## 1805.12028 page 8\n",
    "cross section times flux times P=1 \n",
    "\n"
   ]
  },
  {
   "cell_type": "code",
   "execution_count": 8,
   "metadata": {},
   "outputs": [],
   "source": [
    "\"\"\"\n",
    "RUN FOR Nf ONLY\n",
    "DON'T TRY IT AT HOME\n",
    "\"\"\"\n",
    "def N_th_per_bin_nf(energies, theta14 , theta24, dm2,L, cross_section,flux, run_status = False):\n",
    "    \"\"\"\n",
    "    Energies is a list with three memebers:\n",
    "        Energies = [E_min, E_max, num]\n",
    "        \n",
    "    ROTATION ANGLES\n",
    "\n",
    "        Theta24 is in degree\n",
    "        Theta14 is setted to 90.0\n",
    "        Theta34 is setted to 0.0\n",
    "\n",
    "    \n",
    "    flux is a list with 2 members:\n",
    "        flux = [flux_nu, eflux_nu]\n",
    "        OR\n",
    "        flux = [flux_anu, eflux_anu]     \n",
    "        \n",
    "    cross_section is a list with two members\n",
    "        cross_section = [quasi_elastic_nu_cross, energy_cross_section]\n",
    "        \n",
    "    sin2th2, dm2,L,E\n",
    "    \"\"\"\n",
    "    if (run_status):\n",
    "        dE = (energies[1]- energies[0])/energies[2]\n",
    "        energy_array = np.linspace(energies[0], energies[1], energies[2])\n",
    "        flux_array = []\n",
    "        cross_section_array = []\n",
    "        p = []\n",
    "        for e in energy_array:\n",
    "            flux_array.append(neutrino_flux(e,flux[0], flux[1]))\n",
    "            cross_section_array.append(cross_section_ccqe_nu(e ,cross_section[0], cross_section[1]))\n",
    "            p.append(1.0)\n",
    "\n",
    "        p = np.array(p)\n",
    "        cross_section_array = np.array(cross_section_array) \n",
    "        flux_array = np.array(flux_array)\n",
    "\n",
    "        return sum(p*cross_section_array*flux_array)*dE\n",
    "\n",
    "    else:\n",
    "        pass\n",
    "\n",
    "\n",
    "\n"
   ]
  },
  {
   "cell_type": "markdown",
   "metadata": {},
   "source": [
    "## 1805.12028 page 8\n",
    "\n",
    "\n",
    "in figure 8 #event of $\\nu_\\mu$ is presented\n",
    "## to compute $n_f = \\frac{n_{exp}}{above{\\ }mentioned{\\ }integral}$  = "
   ]
  },
  {
   "cell_type": "code",
   "execution_count": 9,
   "metadata": {},
   "outputs": [],
   "source": [
    "energies = [0.1, 1.5, 100]\n",
    "theta24 = 30.0\n",
    "theta14 = 90.0\n",
    "dm2 = 1.0\n",
    "L = 0.5\n",
    "flux = [flux_nu, eflux_nu]\n",
    "cross_section = [quasi_elastic_nu_cross, energy_cross_section]\n",
    "\n",
    "nf_MiniBoone = (114020.130254588)/N_th_per_bin_nf(energies, theta14, theta24, dm2,L, cross_section,flux,True)\n"
   ]
  },
  {
   "cell_type": "code",
   "execution_count": 10,
   "metadata": {
    "scrolled": true
   },
   "outputs": [
    {
     "data": {
      "text/plain": [
       "array([1183.13881414, 3641.76117169, 6748.33613883, 5448.47773349,\n",
       "       8406.02128082, 6664.47320538, 5892.34942811, 3697.98836597,\n",
       "       2933.01517834])"
      ]
     },
     "execution_count": 10,
     "metadata": {},
     "output_type": "execute_result"
    }
   ],
   "source": [
    "n_th_old = []\n",
    "for i in range(len(bins)-1):\n",
    "    energies = [bins[i], bins[i+1], 100]\n",
    "    n_th_old.append(nf_MiniBoone * N_th_per_bin(energies, theta14, theta24, dm2,L, cross_section,flux))\n",
    "n_th_old = np.array(n_th_old)\n",
    "\n",
    "n_th_old "
   ]
  },
  {
   "cell_type": "markdown",
   "metadata": {},
   "source": [
    "# $\\chi^2 = \\sum_i \\Big(\\frac{N_i^{th}(i) - N_i^{exp}}{\\sigma_i}\\Big)^2$"
   ]
  },
  {
   "cell_type": "code",
   "execution_count": 11,
   "metadata": {},
   "outputs": [],
   "source": [
    "def chi2(nf, theta14, theta24, dm2,L, cross_section, bins, n_exp, error,flux):\n",
    "    '''\n",
    "        NORMATIZATION FACTOR HAS TO BE IN THE INPUT\n",
    "    '''\n",
    "    n_th = []\n",
    "    for i in range(len(bins)-1):\n",
    "        energies = [bins[i], bins[i+1], 100]\n",
    "        n_th.append(nf * N_th_per_bin(energies, theta14, theta24, dm2,L, cross_section,flux))\n",
    "    n_th = np.array(n_th)\n",
    "    return sum(((n_th - n_exp)/error)*((n_th - n_exp)/error))\n",
    "    \n",
    "                       "
   ]
  },
  {
   "cell_type": "markdown",
   "metadata": {},
   "source": [
    "# Do this with gradiant decent \n",
    "\n",
    "for pull methods "
   ]
  },
  {
   "cell_type": "code",
   "execution_count": 12,
   "metadata": {},
   "outputs": [],
   "source": [
    "def chi2_min_finder(CHI2_MAT, DM2, arc_theta_24):\n",
    "    rows_c = 0\n",
    "    cols_c = 0\n",
    "    chi2_min = CHI2_MAT.min()\n",
    "    for rows in CHI2_MAT:\n",
    "        for cols in rows:\n",
    "            if (cols == chi2_min ):\n",
    "                return arc_theta_24[rows_c], DM2[cols_c]\n",
    "            else:\n",
    "                if (cols_c + 1 == len(rows)):\n",
    "                    cols_c = 0\n",
    "                else:\n",
    "                    cols_c += 1\n",
    "        rows_c += 1"
   ]
  },
  {
   "cell_type": "markdown",
   "metadata": {},
   "source": [
    "# Changing the parameters"
   ]
  },
  {
   "cell_type": "markdown",
   "metadata": {},
   "source": [
    "## This section is changing $\\theta_{14}$ and $\\theta_{24}$"
   ]
  },
  {
   "cell_type": "code",
   "execution_count": 13,
   "metadata": {},
   "outputs": [],
   "source": [
    "energies = [0.1, 1.5, 100]\n",
    "num = 50\n",
    "a = np.linspace(-2,2,num)\n",
    "DM2 = 10.0**a\n",
    "power = np.linspace(-4,0,num)\n",
    "sin2_theta_14 = 10.0**power\n",
    "sin2_theta_24 = 10.0**power\n",
    "L = 0.5\n",
    "parameter_mat = \"theta_14_theta24\"\n",
    "nu_file_name = \"./Output/non_interactive/nue_\"+parameter_mat+\"_\"+str(num)+\"_CHI2_MAT.dat\"\n",
    "anu_file_name = \"./Output/non_interactive/anue_\"+parameter_mat+\"_\"+str(num)+\"_CHI2_MAT.dat\""
   ]
  },
  {
   "cell_type": "markdown",
   "metadata": {},
   "source": [
    "##  $\\nu$"
   ]
  },
  {
   "cell_type": "code",
   "execution_count": 14,
   "metadata": {},
   "outputs": [],
   "source": [
    "f = open(nu_file_name,\"w\")\n",
    "count = 1\n",
    "for sin2theta24 in sin2_theta_24:\n",
    "    theta24 = np.rad2deg(np.arcsin(np.sqrt(sin2theta24)))/2.0\n",
    "    for sin2theta14 in sin2_theta_14:\n",
    "        theta14 = np.rad2deg(np.arcsin(np.sqrt(sin2theta14)))/2.0\n",
    "        chi2_value = chi2(nf_MiniBoone, theta14, theta24, dm2,L, cross_section, bins, nexp_nu_mini, error_nu_mini,nu_flux)\n",
    "        f.write(str(chi2_value)+\"\\t\")\n",
    "        if (count == len(sin2_theta_14)):\n",
    "            f.write(\"\\n\")\n",
    "            count = 1\n",
    "        else:\n",
    "            count = count + 1\n",
    "f.close() "
   ]
  },
  {
   "cell_type": "markdown",
   "metadata": {},
   "source": [
    "##  $\\bar{\\nu}$"
   ]
  },
  {
   "cell_type": "code",
   "execution_count": 15,
   "metadata": {},
   "outputs": [],
   "source": [
    "f = open(anu_file_name,\"w\")\n",
    "count = 1\n",
    "for sin2theta24 in sin2_theta_24:\n",
    "    theta24 = np.rad2deg(np.arcsin(np.sqrt(sin2theta24)))/2.0\n",
    "    for sin2theta14 in sin2_theta_14:\n",
    "        theta14 = np.rad2deg(np.arcsin(np.sqrt(sin2theta14)))/2.0\n",
    "        chi2_value = chi2(nf_MiniBoone, theta14, theta24, dm2,L, anu_cross_section, bins, nexp_anu_mini, error_anu_mini,anu_flux)\n",
    "        f.write(str(chi2_value)+\"\\t\")\n",
    "        if (count == len(sin2_theta_14)):\n",
    "            f.write(\"\\n\")\n",
    "            count = 1\n",
    "        else:\n",
    "            count = count + 1\n",
    "f.close()\n",
    "\n"
   ]
  },
  {
   "cell_type": "code",
   "execution_count": 16,
   "metadata": {},
   "outputs": [],
   "source": [
    "CHI2_MAT_nu = np.loadtxt(nu_file_name)\n",
    "CHI2_MAT_anu = np.loadtxt(anu_file_name)\n",
    "chi_kol = CHI2_MAT_nu  + CHI2_MAT_anu"
   ]
  },
  {
   "cell_type": "code",
   "execution_count": 17,
   "metadata": {},
   "outputs": [
    {
     "name": "stdout",
     "output_type": "stream",
     "text": [
      "0.015998587196060572 0.6866488450042998\n"
     ]
    }
   ],
   "source": [
    "x_min, y_min = chi2_min_finder(chi_kol,  sin2_theta_14, sin2_theta_24)\n",
    "print(x_min,y_min)"
   ]
  },
  {
   "cell_type": "code",
   "execution_count": 37,
   "metadata": {},
   "outputs": [
    {
     "data": {
      "image/png": "[encoded data removed]",
      "text/plain": [
       "<Figure size 432x288 with 1 Axes>"
      ]
     },
     "metadata": {
      "needs_background": "light"
     },
     "output_type": "display_data"
    }
   ],
   "source": [
    "fig, ax = plt.subplots()\n",
    "\n",
    "y , x = np.meshgrid(sin2_theta_14, sin2_theta_24)\n",
    "CS = ax.contour(x, y ,chi_kol - chi_kol.min() ,levels =  [2.3,6.18,11.83]) \n",
    "#plt.clabel(CS, inline=1, fontsize=10)   # this is countor label\n",
    "labels = ['1$\\sigma$', '2$\\sigma$','3$\\sigma$']\n",
    "for i in range(len(labels)):\n",
    "    ax.collections[i].set_label(labels[i])\n",
    "\n",
    "#ax.set_xticklabels([0, .1,.2,.3,.4,.5,.6,.7,.8,.9,.10])\n",
    "#ax.scatter(x_min,y_min,marker=\"o\",s=100,c=\"k\")\n",
    "\n",
    "ax.set_xlabel(r\"$\\sin^2(2\\theta_{24})$\")\n",
    "ax.set_ylabel(r\"$\\sin^2(2\\theta_{14})$\")\n",
    "\n",
    "#plt.legend(loc=3);ax.set_yscale('log');ax.set_xscale('log');ax.set_title(r\"$log-log~~plot$\");plt.savefig(\"./Output/non_interactive/\"+parameter_mat+\"_\"+str(num)+\"_log.pdf\")\n",
    "\n",
    "plt.legend(loc=0);ax.set_title(r\"$non-log~~plot$\");plt.savefig(\"./Output/non_interactive/\"+parameter_mat+\"_\"+str(num)+\"_.pdf\")\n",
    "\n",
    "\n",
    "\n",
    "\n",
    "\n"
   ]
  },
  {
   "cell_type": "markdown",
   "metadata": {},
   "source": [
    "## This section is changing $\\theta_{14}$ and $M_{Z'}$"
   ]
  },
  {
   "cell_type": "code",
   "execution_count": 38,
   "metadata": {},
   "outputs": [],
   "source": [
    "energies = [0.1, 1.5, 100]\n",
    "num = 40\n",
    "a = np.linspace(-2,2,num)\n",
    "DM2 = 10.0**a\n",
    "power = np.linspace(-4,0,num)\n",
    "sin2_theta_14 = 10.0**power\n",
    "sin2_theta_24 = 9.3\n",
    "L = 0.5\n",
    "\n",
    "parameter_mat = \"theta_14_MZ\"\n",
    "nu_file_name = \"./Output/nue\"+parameter_mat+str(num)+\"CHI2_MAT.dat\"\n",
    "anu_file_name = \"./Output/anue\"+parameter_mat+str(num)+\"CHI2_MAT.dat\""
   ]
  },
  {
   "cell_type": "code",
   "execution_count": 39,
   "metadata": {},
   "outputs": [],
   "source": [
    "f = open(nu_file_name,\"w\")\n",
    "count = 1\n",
    "for sin2theta14 in sin2_theta_14:\n",
    "    theta14 = np.rad2deg(np.arcsin(np.sqrt(sin2theta14)))/2.0\n",
    "    for dm2 in DM2:\n",
    "        chi2_value = chi2(nf_MiniBoone, theta14, theta24, dm2,L, anu_cross_section, bins, nexp_anu_mini, error_anu_mini,anu_flux)\n",
    "        f.write(str(chi2_value)+\"\\t\")\n",
    "        if (count == len(DM2)):\n",
    "            f.write(\"\\n\")\n",
    "            count = 1\n",
    "        else:\n",
    "            count = count + 1\n",
    "f.close()           "
   ]
  },
  {
   "cell_type": "code",
   "execution_count": 40,
   "metadata": {},
   "outputs": [],
   "source": [
    "f = open(anu_file_name,\"w\")\n",
    "count = 1\n",
    "for sin2theta14 in sin2_theta_14:\n",
    "    theta14 = np.rad2deg(np.arcsin(np.sqrt(sin2theta14)))/2.0\n",
    "    for dm2 in DM2:\n",
    "        chi2_value = chi2(nf_MiniBoone, theta14, theta24, dm2,L, anu_cross_section, bins, nexp_anu_mini, error_anu_mini,anu_flux)\n",
    "        f.write(str(chi2_value)+\"\\t\")\n",
    "        if (count == len(DM2)):\n",
    "            f.write(\"\\n\")\n",
    "            count = 1\n",
    "        else:\n",
    "            count = count + 1\n",
    "f.close()     "
   ]
  },
  {
   "cell_type": "code",
   "execution_count": 74,
   "metadata": {},
   "outputs": [],
   "source": [
    "CHI2_MAT_nu = np.loadtxt(nu_file_name)\n",
    "CHI2_MAT_anu = np.loadtxt(anu_file_name)\n",
    "chi_kol = CHI2_MAT_nu  + CHI2_MAT_anu"
   ]
  },
  {
   "cell_type": "code",
   "execution_count": 76,
   "metadata": {},
   "outputs": [
    {
     "data": {
      "image/png": "[encoded data removed]",
      "text/plain": [
       "<Figure size 432x288 with 1 Axes>"
      ]
     },
     "metadata": {
      "needs_background": "light"
     },
     "output_type": "display_data"
    }
   ],
   "source": [
    "fig, ax = plt.subplots()\n",
    "\n",
    "y , x = np.meshgrid(DM2, sin2_theta_14)\n",
    "CS = ax.contour(x, y ,chi_kol - chi_kol.min() ,levels =  [3.3,7.18,11.23,20.9]) \n",
    "#plt.clabel(CS, inline=1, fontsize=10)   # this is countor label\n",
    "labels = ['1$\\sigma$', '2$\\sigma$','3$\\sigma$','4$\\sigma$']\n",
    "for i in range(len(labels)):\n",
    "    ax.collections[i].set_label(labels[i])\n",
    "    \n",
    "#ax.set_xticklabels([0, .1,.2,.3,.4,.5,.6,.7,.8,.9,.10])\n",
    "#ax.scatter(x_min,y_min,marker=\"o\",s=100,c=\"k\")\n",
    "\n",
    "plt.legend(loc=0)\n",
    "\n",
    "ax.set_yscale('log')\n",
    "ax.set_xscale('log')\n",
    "ax.set_xlabel(r\"$\\sin^2(2\\theta_{24})$\")\n",
    "ax.set_ylabel(\"$\\Delta M^2$\")\n",
    "plt.savefig(\"./Output/non_interactive/\"+parameter_mat+\"_\"+str(num)+\"_.pdf\")"
   ]
  },
  {
   "cell_type": "code",
   "execution_count": null,
   "metadata": {},
   "outputs": [],
   "source": []
  }
 ],
 "metadata": {
  "kernelspec": {
   "display_name": "Python 3",
   "language": "python",
   "name": "python3"
  },
  "language_info": {
   "codemirror_mode": {
    "name": "ipython",
    "version": 3
   },
   "file_extension": ".py",
   "mimetype": "text/x-python",
   "name": "python",
   "nbconvert_exporter": "python",
   "pygments_lexer": "ipython3",
   "version": "3.7.3"
  }
 },
 "nbformat": 4,
 "nbformat_minor": 2
}
